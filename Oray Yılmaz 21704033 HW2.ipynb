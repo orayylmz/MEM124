{
 "cells": [
  {
   "cell_type": "code",
   "execution_count": null,
   "metadata": {},
   "outputs": [
    {
     "name": "stdout",
     "output_type": "stream",
     "text": [
      "1-2-3 sayılarından birini seçin: 1\n",
      "Bu kısımda üçgenin hipotenüsü hesaplanacak\n",
      "\n",
      "birinci kenarı giriniz a,Lütfen\n",
      "2\n",
      "ikinci kenarı giriniz b,Lütfen\n",
      "3\n",
      "HİPOTENÜS= 3.605551275463989\n",
      "1-2-3 sayılarından birini seçin: 2\n",
      "Bu kısımda 1'den girdiğiniz sayıya kadar olan sayılar gösterilecektir lütfen bir değer giriniz\n",
      "5\n",
      "i= 0\n",
      "i= 1\n",
      "i= 2\n",
      "i= 3\n",
      "i= 4\n",
      "i= 5\n",
      "1-2-3 sayılarından birini seçin: 3\n",
      "Lütfen 1. sayıyı giriniz\n",
      "1\n",
      "Lütfen 2. sayıyı giriniz\n",
      "2\n",
      "Lütfen 3. sayıyı giriniz\n",
      "3\n",
      "Lütfen 4. sayıyı giriniz\n",
      "4\n",
      "Lütfen 5. sayıyı giriniz\n",
      "5\n",
      "Lütfen 6. sayıyı giriniz\n",
      "6\n",
      "average= 3.5\n"
     ]
    }
   ],
   "source": [
    "while True:\n",
    "    a=input(\"1-2-3 sayılarından birini seçin: \")\n",
    "    if a==\"1\":\n",
    "        print(\"Bu kısımda üçgenin hipotenüsü hesaplanacak\\n\")\n",
    "        a=float(input(\"birinci kenarı giriniz a,Lütfen\\n\"))\n",
    "        b=float(input(\"ikinci kenarı giriniz b,Lütfen\\n\"))\n",
    "        HİPOTENÜS=((a**2+b**2)**0.5)\n",
    "        print(\"HİPOTENÜS=\",HİPOTENÜS)\n",
    "    elif a==\"2\":\n",
    "        n=float(input(\"Bu kısımda 1'den girdiğiniz sayıya kadar olan sayılar gösterilecektir lütfen bir değer giriniz\\n\"))\n",
    "        i=0\n",
    "        while i<=n:\n",
    "            print(\"i=\",i)\n",
    "            i+=1\n",
    "    elif a==\"3\":\n",
    "        G=float(input(\"Lütfen 1. sayıyı giriniz\\n\"))\n",
    "        Ö=float(input(\"Lütfen 2. sayıyı giriniz\\n\"))\n",
    "        K=float(input(\"Lütfen 3. sayıyı giriniz\\n\"))\n",
    "        B=float(input(\"Lütfen 4. sayıyı giriniz\\n\"))\n",
    "        E=float(input(\"Lütfen 5. sayıyı giriniz\\n\"))\n",
    "        R=float(input(\"Lütfen 6. sayıyı giriniz\\n\"))\n",
    "        average=(G+Ö+K+B+E+R)/6\n",
    "        print(\"average=\",average)\n",
    "    else:\n",
    "        print(\"1-2-3 değerlerinden birini seçmeniz lazım.\")"
   ]
  },
  {
   "cell_type": "code",
   "execution_count": null,
   "metadata": {},
   "outputs": [],
   "source": []
  }
 ],
 "metadata": {
  "kernelspec": {
   "display_name": "Python 3",
   "language": "python",
   "name": "python3"
  },
  "language_info": {
   "codemirror_mode": {
    "name": "ipython",
    "version": 3
   },
   "file_extension": ".py",
   "mimetype": "text/x-python",
   "name": "python",
   "nbconvert_exporter": "python",
   "pygments_lexer": "ipython3",
   "version": "3.7.0"
  }
 },
 "nbformat": 4,
 "nbformat_minor": 2
}
