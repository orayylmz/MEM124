{
 "cells": [
  {
   "cell_type": "code",
   "execution_count": 1,
   "metadata": {},
   "outputs": [
    {
     "name": "stdout",
     "output_type": "stream",
     "text": [
      "a değerini giriniz-2\n",
      "b değerini giriniz-2\n",
      "c değerini giriniz-3\n",
      "delta= -20\n",
      "x1= (-2.0000000000000004-4.47213595499958j)\n",
      "x2= (-1.9999999999999998+4.47213595499958j)\n"
     ]
    }
   ],
   "source": [
    "a=int(input(\"a değerini giriniz\"))\n",
    "b=int(input(\"b değerini giriniz\"))\n",
    "c=int(input(\"c değerini giriniz\"))\n",
    "delta=b**2-4*a*c\n",
    "x1=(-1*b+delta**0.5)/2*a\n",
    "x2=(-1*b-delta**0.5)/2*a\n",
    "print(\"delta=\",delta)\n",
    "print(\"x1=\",x1)\n",
    "print(\"x2=\",x2)"
   ]
  },
  {
   "cell_type": "code",
   "execution_count": null,
   "metadata": {},
   "outputs": [],
   "source": []
  }
 ],
 "metadata": {
  "kernelspec": {
   "display_name": "Python 3",
   "language": "python",
   "name": "python3"
  },
  "language_info": {
   "codemirror_mode": {
    "name": "ipython",
    "version": 3
   },
   "file_extension": ".py",
   "mimetype": "text/x-python",
   "name": "python",
   "nbconvert_exporter": "python",
   "pygments_lexer": "ipython3",
   "version": "3.6.5"
  }
 },
 "nbformat": 4,
 "nbformat_minor": 2
}
